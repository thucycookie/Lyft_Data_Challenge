{
  "nbformat": 4,
  "nbformat_minor": 0,
  "metadata": {
    "kernelspec": {
      "display_name": "Python 3",
      "language": "python",
      "name": "python3"
    },
    "language_info": {
      "codemirror_mode": {
        "name": "ipython",
        "version": 3
      },
      "file_extension": ".py",
      "mimetype": "text/x-python",
      "name": "python",
      "nbconvert_exporter": "python",
      "pygments_lexer": "ipython3",
      "version": "3.7.1"
    },
    "colab": {
      "name": "Lyft_data_challenge_v01.ipynb",
      "provenance": [],
      "collapsed_sections": [],
      "include_colab_link": true
    }
  },
  "cells": [
    {
      "cell_type": "markdown",
      "metadata": {
        "id": "view-in-github",
        "colab_type": "text"
      },
      "source": [
        "<a href=\"https://colab.research.google.com/github/tug98850/Lyft_Data_Challenge/blob/master/2019_Lyft_Data_Challenge.ipynb\" target=\"_parent\"><img src=\"https://colab.research.google.com/assets/colab-badge.svg\" alt=\"Open In Colab\"/></a>"
      ]
    },
    {
      "cell_type": "code",
      "metadata": {
        "id": "wv4bm3n6skHO",
        "colab_type": "code",
        "colab": {}
      },
      "source": [
        "import pandas as pd\n",
        "from collections import Counter"
      ],
      "execution_count": 0,
      "outputs": []
    },
    {
      "cell_type": "markdown",
      "metadata": {
        "id": "hl6z_2FOskHQ",
        "colab_type": "text"
      },
      "source": [
        "#### Want:\n",
        "\n",
        "price per ride *for each driver* \n",
        "\n",
        "-- each driver will have multiple rides\n",
        "--> want an average for each driver"
      ]
    },
    {
      "cell_type": "code",
      "metadata": {
        "id": "5eB47A1QwtrX",
        "colab_type": "code",
        "colab": {}
      },
      "source": [
        "driver_link = 'https://raw.githubusercontent.com/tug98850/Lyft_Data_Challenge/master/driver_ids.csv'\n",
        "ts_link = 'https://raw.githubusercontent.com/tug98850/Lyft_Data_Challenge/master/ride_timestamps.csv'\n",
        "ride_link = 'https://raw.githubusercontent.com/tug98850/Lyft_Data_Challenge/master/ride_ids.csv'\n",
        "\n",
        "d = pd.read_csv(driver_link)\n",
        "r = pd.read_csv(ride_link)\n",
        "ts = pd.read_csv(ts_link)"
      ],
      "execution_count": 0,
      "outputs": []
    },
    {
      "cell_type": "code",
      "metadata": {
        "id": "UKMrWnRyskHT",
        "colab_type": "code",
        "outputId": "6d1bf0aa-0bb9-4256-dfb6-0ae1c518b092",
        "colab": {
          "base_uri": "https://localhost:8080/",
          "height": 111
        }
      },
      "source": [
        "d.head(2)"
      ],
      "execution_count": 0,
      "outputs": [
        {
          "output_type": "execute_result",
          "data": {
            "text/html": [
              "<div>\n",
              "<style scoped>\n",
              "    .dataframe tbody tr th:only-of-type {\n",
              "        vertical-align: middle;\n",
              "    }\n",
              "\n",
              "    .dataframe tbody tr th {\n",
              "        vertical-align: top;\n",
              "    }\n",
              "\n",
              "    .dataframe thead th {\n",
              "        text-align: right;\n",
              "    }\n",
              "</style>\n",
              "<table border=\"1\" class=\"dataframe\">\n",
              "  <thead>\n",
              "    <tr style=\"text-align: right;\">\n",
              "      <th></th>\n",
              "      <th>driver_id</th>\n",
              "      <th>driver_onboard_date</th>\n",
              "    </tr>\n",
              "  </thead>\n",
              "  <tbody>\n",
              "    <tr>\n",
              "      <th>0</th>\n",
              "      <td>002be0ffdc997bd5c50703158b7c2491</td>\n",
              "      <td>2016-03-29 00:00:00</td>\n",
              "    </tr>\n",
              "    <tr>\n",
              "      <th>1</th>\n",
              "      <td>007f0389f9c7b03ef97098422f902e62</td>\n",
              "      <td>2016-03-29 00:00:00</td>\n",
              "    </tr>\n",
              "  </tbody>\n",
              "</table>\n",
              "</div>"
            ],
            "text/plain": [
              "                          driver_id  driver_onboard_date\n",
              "0  002be0ffdc997bd5c50703158b7c2491  2016-03-29 00:00:00\n",
              "1  007f0389f9c7b03ef97098422f902e62  2016-03-29 00:00:00"
            ]
          },
          "metadata": {
            "tags": []
          },
          "execution_count": 3
        }
      ]
    },
    {
      "cell_type": "code",
      "metadata": {
        "id": "9KcabJrLskHW",
        "colab_type": "code",
        "outputId": "18150c13-6a91-4896-cc49-0d4670772bd2",
        "colab": {
          "base_uri": "https://localhost:8080/",
          "height": 111
        }
      },
      "source": [
        "r.head(2)"
      ],
      "execution_count": 0,
      "outputs": [
        {
          "output_type": "execute_result",
          "data": {
            "text/html": [
              "<div>\n",
              "<style scoped>\n",
              "    .dataframe tbody tr th:only-of-type {\n",
              "        vertical-align: middle;\n",
              "    }\n",
              "\n",
              "    .dataframe tbody tr th {\n",
              "        vertical-align: top;\n",
              "    }\n",
              "\n",
              "    .dataframe thead th {\n",
              "        text-align: right;\n",
              "    }\n",
              "</style>\n",
              "<table border=\"1\" class=\"dataframe\">\n",
              "  <thead>\n",
              "    <tr style=\"text-align: right;\">\n",
              "      <th></th>\n",
              "      <th>driver_id</th>\n",
              "      <th>ride_id</th>\n",
              "      <th>ride_distance</th>\n",
              "      <th>ride_duration</th>\n",
              "      <th>ride_prime_time</th>\n",
              "    </tr>\n",
              "  </thead>\n",
              "  <tbody>\n",
              "    <tr>\n",
              "      <th>0</th>\n",
              "      <td>002be0ffdc997bd5c50703158b7c2491</td>\n",
              "      <td>006d61cf7446e682f7bc50b0f8a5bea5</td>\n",
              "      <td>1811</td>\n",
              "      <td>327</td>\n",
              "      <td>50</td>\n",
              "    </tr>\n",
              "    <tr>\n",
              "      <th>1</th>\n",
              "      <td>002be0ffdc997bd5c50703158b7c2491</td>\n",
              "      <td>01b522c5c3a756fbdb12e95e87507eda</td>\n",
              "      <td>3362</td>\n",
              "      <td>809</td>\n",
              "      <td>0</td>\n",
              "    </tr>\n",
              "  </tbody>\n",
              "</table>\n",
              "</div>"
            ],
            "text/plain": [
              "                          driver_id  ... ride_prime_time\n",
              "0  002be0ffdc997bd5c50703158b7c2491  ...              50\n",
              "1  002be0ffdc997bd5c50703158b7c2491  ...               0\n",
              "\n",
              "[2 rows x 5 columns]"
            ]
          },
          "metadata": {
            "tags": []
          },
          "execution_count": 4
        }
      ]
    },
    {
      "cell_type": "code",
      "metadata": {
        "id": "kNzTVC5Tts0f",
        "colab_type": "code",
        "outputId": "2305eee4-0abd-47f3-948e-7ec22de82f24",
        "colab": {
          "base_uri": "https://localhost:8080/",
          "height": 204
        }
      },
      "source": [
        "ts.head(5)"
      ],
      "execution_count": 0,
      "outputs": [
        {
          "output_type": "execute_result",
          "data": {
            "text/html": [
              "<div>\n",
              "<style scoped>\n",
              "    .dataframe tbody tr th:only-of-type {\n",
              "        vertical-align: middle;\n",
              "    }\n",
              "\n",
              "    .dataframe tbody tr th {\n",
              "        vertical-align: top;\n",
              "    }\n",
              "\n",
              "    .dataframe thead th {\n",
              "        text-align: right;\n",
              "    }\n",
              "</style>\n",
              "<table border=\"1\" class=\"dataframe\">\n",
              "  <thead>\n",
              "    <tr style=\"text-align: right;\">\n",
              "      <th></th>\n",
              "      <th>ride_id</th>\n",
              "      <th>event</th>\n",
              "      <th>timestamp</th>\n",
              "    </tr>\n",
              "  </thead>\n",
              "  <tbody>\n",
              "    <tr>\n",
              "      <th>0</th>\n",
              "      <td>00003037a262d9ee40e61b5c0718f7f0</td>\n",
              "      <td>requested_at</td>\n",
              "      <td>2016-06-13 09:39:19</td>\n",
              "    </tr>\n",
              "    <tr>\n",
              "      <th>1</th>\n",
              "      <td>00003037a262d9ee40e61b5c0718f7f0</td>\n",
              "      <td>accepted_at</td>\n",
              "      <td>2016-06-13 09:39:51</td>\n",
              "    </tr>\n",
              "    <tr>\n",
              "      <th>2</th>\n",
              "      <td>00003037a262d9ee40e61b5c0718f7f0</td>\n",
              "      <td>arrived_at</td>\n",
              "      <td>2016-06-13 09:44:31</td>\n",
              "    </tr>\n",
              "    <tr>\n",
              "      <th>3</th>\n",
              "      <td>00003037a262d9ee40e61b5c0718f7f0</td>\n",
              "      <td>picked_up_at</td>\n",
              "      <td>2016-06-13 09:44:33</td>\n",
              "    </tr>\n",
              "    <tr>\n",
              "      <th>4</th>\n",
              "      <td>00003037a262d9ee40e61b5c0718f7f0</td>\n",
              "      <td>dropped_off_at</td>\n",
              "      <td>2016-06-13 10:03:05</td>\n",
              "    </tr>\n",
              "  </tbody>\n",
              "</table>\n",
              "</div>"
            ],
            "text/plain": [
              "                            ride_id           event            timestamp\n",
              "0  00003037a262d9ee40e61b5c0718f7f0    requested_at  2016-06-13 09:39:19\n",
              "1  00003037a262d9ee40e61b5c0718f7f0     accepted_at  2016-06-13 09:39:51\n",
              "2  00003037a262d9ee40e61b5c0718f7f0      arrived_at  2016-06-13 09:44:31\n",
              "3  00003037a262d9ee40e61b5c0718f7f0    picked_up_at  2016-06-13 09:44:33\n",
              "4  00003037a262d9ee40e61b5c0718f7f0  dropped_off_at  2016-06-13 10:03:05"
            ]
          },
          "metadata": {
            "tags": []
          },
          "execution_count": 5
        }
      ]
    },
    {
      "cell_type": "code",
      "metadata": {
        "id": "66uFgTXV3rqt",
        "colab_type": "code",
        "outputId": "a8593392-91f9-4aca-a821-79295e477e78",
        "colab": {
          "base_uri": "https://localhost:8080/",
          "height": 173
        }
      },
      "source": [
        "d.describe()"
      ],
      "execution_count": 0,
      "outputs": [
        {
          "output_type": "execute_result",
          "data": {
            "text/html": [
              "<div>\n",
              "<style scoped>\n",
              "    .dataframe tbody tr th:only-of-type {\n",
              "        vertical-align: middle;\n",
              "    }\n",
              "\n",
              "    .dataframe tbody tr th {\n",
              "        vertical-align: top;\n",
              "    }\n",
              "\n",
              "    .dataframe thead th {\n",
              "        text-align: right;\n",
              "    }\n",
              "</style>\n",
              "<table border=\"1\" class=\"dataframe\">\n",
              "  <thead>\n",
              "    <tr style=\"text-align: right;\">\n",
              "      <th></th>\n",
              "      <th>driver_id</th>\n",
              "      <th>driver_onboard_date</th>\n",
              "    </tr>\n",
              "  </thead>\n",
              "  <tbody>\n",
              "    <tr>\n",
              "      <th>count</th>\n",
              "      <td>937</td>\n",
              "      <td>937</td>\n",
              "    </tr>\n",
              "    <tr>\n",
              "      <th>unique</th>\n",
              "      <td>937</td>\n",
              "      <td>49</td>\n",
              "    </tr>\n",
              "    <tr>\n",
              "      <th>top</th>\n",
              "      <td>b5d89a7f152103c9fc981e3990e9fc86</td>\n",
              "      <td>2016-04-05 00:00:00</td>\n",
              "    </tr>\n",
              "    <tr>\n",
              "      <th>freq</th>\n",
              "      <td>1</td>\n",
              "      <td>36</td>\n",
              "    </tr>\n",
              "  </tbody>\n",
              "</table>\n",
              "</div>"
            ],
            "text/plain": [
              "                               driver_id  driver_onboard_date\n",
              "count                                937                  937\n",
              "unique                               937                   49\n",
              "top     b5d89a7f152103c9fc981e3990e9fc86  2016-04-05 00:00:00\n",
              "freq                                   1                   36"
            ]
          },
          "metadata": {
            "tags": []
          },
          "execution_count": 6
        }
      ]
    },
    {
      "cell_type": "code",
      "metadata": {
        "id": "7w89AOA93vGD",
        "colab_type": "code",
        "outputId": "755ca623-a91f-4f7c-de1e-ada057dfca8c",
        "colab": {
          "base_uri": "https://localhost:8080/",
          "height": 297
        }
      },
      "source": [
        "r.describe()"
      ],
      "execution_count": 0,
      "outputs": [
        {
          "output_type": "execute_result",
          "data": {
            "text/html": [
              "<div>\n",
              "<style scoped>\n",
              "    .dataframe tbody tr th:only-of-type {\n",
              "        vertical-align: middle;\n",
              "    }\n",
              "\n",
              "    .dataframe tbody tr th {\n",
              "        vertical-align: top;\n",
              "    }\n",
              "\n",
              "    .dataframe thead th {\n",
              "        text-align: right;\n",
              "    }\n",
              "</style>\n",
              "<table border=\"1\" class=\"dataframe\">\n",
              "  <thead>\n",
              "    <tr style=\"text-align: right;\">\n",
              "      <th></th>\n",
              "      <th>ride_distance</th>\n",
              "      <th>ride_duration</th>\n",
              "      <th>ride_prime_time</th>\n",
              "    </tr>\n",
              "  </thead>\n",
              "  <tbody>\n",
              "    <tr>\n",
              "      <th>count</th>\n",
              "      <td>193502.000000</td>\n",
              "      <td>193502.000000</td>\n",
              "      <td>193502.000000</td>\n",
              "    </tr>\n",
              "    <tr>\n",
              "      <th>mean</th>\n",
              "      <td>6955.218266</td>\n",
              "      <td>858.966099</td>\n",
              "      <td>17.305893</td>\n",
              "    </tr>\n",
              "    <tr>\n",
              "      <th>std</th>\n",
              "      <td>8929.444606</td>\n",
              "      <td>571.375818</td>\n",
              "      <td>30.825800</td>\n",
              "    </tr>\n",
              "    <tr>\n",
              "      <th>min</th>\n",
              "      <td>-2.000000</td>\n",
              "      <td>2.000000</td>\n",
              "      <td>0.000000</td>\n",
              "    </tr>\n",
              "    <tr>\n",
              "      <th>25%</th>\n",
              "      <td>2459.000000</td>\n",
              "      <td>491.000000</td>\n",
              "      <td>0.000000</td>\n",
              "    </tr>\n",
              "    <tr>\n",
              "      <th>50%</th>\n",
              "      <td>4015.000000</td>\n",
              "      <td>727.000000</td>\n",
              "      <td>0.000000</td>\n",
              "    </tr>\n",
              "    <tr>\n",
              "      <th>75%</th>\n",
              "      <td>7193.000000</td>\n",
              "      <td>1069.000000</td>\n",
              "      <td>25.000000</td>\n",
              "    </tr>\n",
              "    <tr>\n",
              "      <th>max</th>\n",
              "      <td>724679.000000</td>\n",
              "      <td>28204.000000</td>\n",
              "      <td>500.000000</td>\n",
              "    </tr>\n",
              "  </tbody>\n",
              "</table>\n",
              "</div>"
            ],
            "text/plain": [
              "       ride_distance  ride_duration  ride_prime_time\n",
              "count  193502.000000  193502.000000    193502.000000\n",
              "mean     6955.218266     858.966099        17.305893\n",
              "std      8929.444606     571.375818        30.825800\n",
              "min        -2.000000       2.000000         0.000000\n",
              "25%      2459.000000     491.000000         0.000000\n",
              "50%      4015.000000     727.000000         0.000000\n",
              "75%      7193.000000    1069.000000        25.000000\n",
              "max    724679.000000   28204.000000       500.000000"
            ]
          },
          "metadata": {
            "tags": []
          },
          "execution_count": 7
        }
      ]
    },
    {
      "cell_type": "code",
      "metadata": {
        "id": "rvVSUjwq3vZk",
        "colab_type": "code",
        "outputId": "219ca71c-f62a-4090-920b-4c6453e4d476",
        "colab": {
          "base_uri": "https://localhost:8080/",
          "height": 173
        }
      },
      "source": [
        "ts.describe()"
      ],
      "execution_count": 0,
      "outputs": [
        {
          "output_type": "execute_result",
          "data": {
            "text/html": [
              "<div>\n",
              "<style scoped>\n",
              "    .dataframe tbody tr th:only-of-type {\n",
              "        vertical-align: middle;\n",
              "    }\n",
              "\n",
              "    .dataframe tbody tr th {\n",
              "        vertical-align: top;\n",
              "    }\n",
              "\n",
              "    .dataframe thead th {\n",
              "        text-align: right;\n",
              "    }\n",
              "</style>\n",
              "<table border=\"1\" class=\"dataframe\">\n",
              "  <thead>\n",
              "    <tr style=\"text-align: right;\">\n",
              "      <th></th>\n",
              "      <th>ride_id</th>\n",
              "      <th>event</th>\n",
              "      <th>timestamp</th>\n",
              "    </tr>\n",
              "  </thead>\n",
              "  <tbody>\n",
              "    <tr>\n",
              "      <th>count</th>\n",
              "      <td>970405</td>\n",
              "      <td>970405</td>\n",
              "      <td>970404</td>\n",
              "    </tr>\n",
              "    <tr>\n",
              "      <th>unique</th>\n",
              "      <td>194081</td>\n",
              "      <td>5</td>\n",
              "      <td>865826</td>\n",
              "    </tr>\n",
              "    <tr>\n",
              "      <th>top</th>\n",
              "      <td>43a0f81774dd8e6e3cf8473287a4e086</td>\n",
              "      <td>accepted_at</td>\n",
              "      <td>2016-04-30 22:09:15</td>\n",
              "    </tr>\n",
              "    <tr>\n",
              "      <th>freq</th>\n",
              "      <td>5</td>\n",
              "      <td>194081</td>\n",
              "      <td>7</td>\n",
              "    </tr>\n",
              "  </tbody>\n",
              "</table>\n",
              "</div>"
            ],
            "text/plain": [
              "                                 ride_id        event            timestamp\n",
              "count                             970405       970405               970404\n",
              "unique                            194081            5               865826\n",
              "top     43a0f81774dd8e6e3cf8473287a4e086  accepted_at  2016-04-30 22:09:15\n",
              "freq                                   5       194081                    7"
            ]
          },
          "metadata": {
            "tags": []
          },
          "execution_count": 8
        }
      ]
    },
    {
      "cell_type": "markdown",
      "metadata": {
        "id": "YxLWuogP38GL",
        "colab_type": "text"
      },
      "source": [
        "**General statistics**\n",
        "\n",
        "There are 937 different drivers.\n",
        "\n",
        "The mean ride distance is 6955.21 meters.\n",
        "\n",
        "The mean ride duration is 14.3 minutes.\n",
        "\n",
        "The mean prime time is 17 seconds."
      ]
    },
    {
      "cell_type": "code",
      "metadata": {
        "id": "BiRGyb734tXp",
        "colab_type": "code",
        "outputId": "61718ff7-04c9-458b-849d-db8fe2d62735",
        "colab": {
          "base_uri": "https://localhost:8080/",
          "height": 51
        }
      },
      "source": [
        "# calculate each driver's life time\n",
        "# life_time = last_time_ride - onboard_time\n",
        "# also check for if a user onboard but have not given a ride\n",
        "\n",
        "# check driver_onboard_date col\n",
        "print(d['driver_onboard_date'].dtype)\n",
        "\n",
        "#check timestamp\n",
        "print(ts['timestamp'].dtype)"
      ],
      "execution_count": 0,
      "outputs": [
        {
          "output_type": "stream",
          "text": [
            "object\n",
            "object\n"
          ],
          "name": "stdout"
        }
      ]
    },
    {
      "cell_type": "code",
      "metadata": {
        "id": "MRcR1psf75cn",
        "colab_type": "code",
        "colab": {}
      },
      "source": [
        "d['driver_onboard_date'] = pd.to_datetime(d['driver_onboard_date'])\n",
        "ts['timestamp'] = pd.to_datetime(ts['timestamp'])"
      ],
      "execution_count": 0,
      "outputs": []
    },
    {
      "cell_type": "code",
      "metadata": {
        "id": "ixi5nNes6Rit",
        "colab_type": "code",
        "outputId": "b90a5c19-373c-4d5f-da11-985a7dfed17f",
        "colab": {
          "base_uri": "https://localhost:8080/",
          "height": 309
        }
      },
      "source": [
        "# merging driver and ride first\n",
        "merged = pd.merge(d, r, on = \"driver_id\")\n",
        "# merging d, r and timestamp\n",
        "merged = pd.merge(merged, ts, on = \"ride_id\")\n",
        "\n",
        "merged['last_time_drove'] = merged.groupby(['driver_id'])['timestamp'].transform(max)\n",
        "\n",
        "# for each driver, last_time_drove - on_board_date\n",
        "merged['life_time'] = merged['last_time_drove'] - merged['driver_onboard_date']\n",
        "merged.head(5)"
      ],
      "execution_count": 0,
      "outputs": [
        {
          "output_type": "execute_result",
          "data": {
            "text/html": [
              "<div>\n",
              "<style scoped>\n",
              "    .dataframe tbody tr th:only-of-type {\n",
              "        vertical-align: middle;\n",
              "    }\n",
              "\n",
              "    .dataframe tbody tr th {\n",
              "        vertical-align: top;\n",
              "    }\n",
              "\n",
              "    .dataframe thead th {\n",
              "        text-align: right;\n",
              "    }\n",
              "</style>\n",
              "<table border=\"1\" class=\"dataframe\">\n",
              "  <thead>\n",
              "    <tr style=\"text-align: right;\">\n",
              "      <th></th>\n",
              "      <th>driver_id</th>\n",
              "      <th>driver_onboard_date</th>\n",
              "      <th>ride_id</th>\n",
              "      <th>ride_distance</th>\n",
              "      <th>ride_duration</th>\n",
              "      <th>ride_prime_time</th>\n",
              "      <th>event</th>\n",
              "      <th>timestamp</th>\n",
              "      <th>last_time_drove</th>\n",
              "      <th>life_time</th>\n",
              "    </tr>\n",
              "  </thead>\n",
              "  <tbody>\n",
              "    <tr>\n",
              "      <th>0</th>\n",
              "      <td>002be0ffdc997bd5c50703158b7c2491</td>\n",
              "      <td>2016-03-29</td>\n",
              "      <td>006d61cf7446e682f7bc50b0f8a5bea5</td>\n",
              "      <td>1811</td>\n",
              "      <td>327</td>\n",
              "      <td>50</td>\n",
              "      <td>requested_at</td>\n",
              "      <td>2016-04-23 02:13:50</td>\n",
              "      <td>2016-06-23 10:29:53</td>\n",
              "      <td>86 days 10:29:53</td>\n",
              "    </tr>\n",
              "    <tr>\n",
              "      <th>1</th>\n",
              "      <td>002be0ffdc997bd5c50703158b7c2491</td>\n",
              "      <td>2016-03-29</td>\n",
              "      <td>006d61cf7446e682f7bc50b0f8a5bea5</td>\n",
              "      <td>1811</td>\n",
              "      <td>327</td>\n",
              "      <td>50</td>\n",
              "      <td>accepted_at</td>\n",
              "      <td>2016-04-23 02:14:15</td>\n",
              "      <td>2016-06-23 10:29:53</td>\n",
              "      <td>86 days 10:29:53</td>\n",
              "    </tr>\n",
              "    <tr>\n",
              "      <th>2</th>\n",
              "      <td>002be0ffdc997bd5c50703158b7c2491</td>\n",
              "      <td>2016-03-29</td>\n",
              "      <td>006d61cf7446e682f7bc50b0f8a5bea5</td>\n",
              "      <td>1811</td>\n",
              "      <td>327</td>\n",
              "      <td>50</td>\n",
              "      <td>arrived_at</td>\n",
              "      <td>2016-04-23 02:16:36</td>\n",
              "      <td>2016-06-23 10:29:53</td>\n",
              "      <td>86 days 10:29:53</td>\n",
              "    </tr>\n",
              "    <tr>\n",
              "      <th>3</th>\n",
              "      <td>002be0ffdc997bd5c50703158b7c2491</td>\n",
              "      <td>2016-03-29</td>\n",
              "      <td>006d61cf7446e682f7bc50b0f8a5bea5</td>\n",
              "      <td>1811</td>\n",
              "      <td>327</td>\n",
              "      <td>50</td>\n",
              "      <td>picked_up_at</td>\n",
              "      <td>2016-04-23 02:16:40</td>\n",
              "      <td>2016-06-23 10:29:53</td>\n",
              "      <td>86 days 10:29:53</td>\n",
              "    </tr>\n",
              "    <tr>\n",
              "      <th>4</th>\n",
              "      <td>002be0ffdc997bd5c50703158b7c2491</td>\n",
              "      <td>2016-03-29</td>\n",
              "      <td>006d61cf7446e682f7bc50b0f8a5bea5</td>\n",
              "      <td>1811</td>\n",
              "      <td>327</td>\n",
              "      <td>50</td>\n",
              "      <td>dropped_off_at</td>\n",
              "      <td>2016-04-23 02:22:07</td>\n",
              "      <td>2016-06-23 10:29:53</td>\n",
              "      <td>86 days 10:29:53</td>\n",
              "    </tr>\n",
              "  </tbody>\n",
              "</table>\n",
              "</div>"
            ],
            "text/plain": [
              "                          driver_id  ...        life_time\n",
              "0  002be0ffdc997bd5c50703158b7c2491  ... 86 days 10:29:53\n",
              "1  002be0ffdc997bd5c50703158b7c2491  ... 86 days 10:29:53\n",
              "2  002be0ffdc997bd5c50703158b7c2491  ... 86 days 10:29:53\n",
              "3  002be0ffdc997bd5c50703158b7c2491  ... 86 days 10:29:53\n",
              "4  002be0ffdc997bd5c50703158b7c2491  ... 86 days 10:29:53\n",
              "\n",
              "[5 rows x 10 columns]"
            ]
          },
          "metadata": {
            "tags": []
          },
          "execution_count": 11
        }
      ]
    },
    {
      "cell_type": "code",
      "metadata": {
        "id": "BUdkD9ics-mr",
        "colab_type": "code",
        "outputId": "1e5d3a99-78ce-4a10-9e1c-2551feccfbe2",
        "colab": {
          "base_uri": "https://localhost:8080/",
          "height": 153
        }
      },
      "source": [
        "# verifying whether we calculated last_time_drove\n",
        "# by finding the max timestamp value of driver\n",
        "# 002be0ffdc997bd5c50703158b7c2491\n",
        "print('Last time drove is:')\n",
        "print(max(merged[merged['driver_id'] == '002be0ffdc997bd5c50703158b7c2491']['timestamp'].unique()))\n",
        "merged[merged['driver_id'] == '002be0ffdc997bd5c50703158b7c2491']['last_time_drove'].head(5)"
      ],
      "execution_count": 0,
      "outputs": [
        {
          "output_type": "stream",
          "text": [
            "Last time drove is:\n",
            "2016-06-23T10:29:53.000000000\n"
          ],
          "name": "stdout"
        },
        {
          "output_type": "execute_result",
          "data": {
            "text/plain": [
              "0   2016-06-23 10:29:53\n",
              "1   2016-06-23 10:29:53\n",
              "2   2016-06-23 10:29:53\n",
              "3   2016-06-23 10:29:53\n",
              "4   2016-06-23 10:29:53\n",
              "Name: last_time_drove, dtype: datetime64[ns]"
            ]
          },
          "metadata": {
            "tags": []
          },
          "execution_count": 12
        }
      ]
    },
    {
      "cell_type": "markdown",
      "metadata": {
        "id": "CA0dQ85vtWGF",
        "colab_type": "text"
      },
      "source": [
        "Verified that we calculated last time drove correctly."
      ]
    },
    {
      "cell_type": "code",
      "metadata": {
        "id": "_dga9CNrjWSA",
        "colab_type": "code",
        "outputId": "83208eb8-d42d-46ce-e27e-32aa2d4027bc",
        "colab": {
          "base_uri": "https://localhost:8080/",
          "height": 153
        }
      },
      "source": [
        "# verifying if the last time drove we computed\n",
        "# was reasonable\n",
        "print('Checking last time drove')\n",
        "print(merged['last_time_drove'].describe())"
      ],
      "execution_count": 0,
      "outputs": [
        {
          "output_type": "stream",
          "text": [
            "Checking last time drove\n",
            "count                  921045\n",
            "unique                    836\n",
            "top       2016-06-26 19:04:27\n",
            "freq                     4945\n",
            "first     2016-03-30 17:45:36\n",
            "last      2016-06-27 00:50:50\n",
            "Name: last_time_drove, dtype: object\n"
          ],
          "name": "stdout"
        }
      ]
    },
    {
      "cell_type": "code",
      "metadata": {
        "id": "qw3lNo0nkGrG",
        "colab_type": "code",
        "outputId": "c5aeb422-6bfd-4f05-9820-26db99884fc6",
        "colab": {
          "base_uri": "https://localhost:8080/",
          "height": 187
        }
      },
      "source": [
        "print('Checking life time value')\n",
        "print(merged['life_time'].describe())"
      ],
      "execution_count": 0,
      "outputs": [
        {
          "output_type": "stream",
          "text": [
            "Checking life time value\n",
            "count                     921045\n",
            "mean     65 days 01:28:40.248473\n",
            "std      16 days 10:54:33.353497\n",
            "min              1 days 17:45:36\n",
            "25%             53 days 14:40:53\n",
            "50%             66 days 14:17:39\n",
            "75%             78 days 21:51:06\n",
            "max             90 days 18:55:28\n",
            "Name: life_time, dtype: object\n"
          ],
          "name": "stdout"
        }
      ]
    },
    {
      "cell_type": "markdown",
      "metadata": {
        "id": "q3LEEk2QkN32",
        "colab_type": "text"
      },
      "source": [
        "According to the life time we calculated, an average Lyft\n",
        "driver drives for about 2 months. "
      ]
    },
    {
      "cell_type": "markdown",
      "metadata": {
        "id": "lMZ--6QdEZ7l",
        "colab_type": "text"
      },
      "source": [
        "**Calculate life-time for each driver**\n",
        "\n",
        "We just calculate the life time of each value and put it in the life_time column of the merged table"
      ]
    },
    {
      "cell_type": "code",
      "metadata": {
        "id": "vPHrJPNZ-mET",
        "colab_type": "code",
        "outputId": "1a5479af-b14f-4bd2-8658-63ddaff159ad",
        "colab": {
          "base_uri": "https://localhost:8080/",
          "height": 549
        }
      },
      "source": [
        "# calculate fare\n",
        "# fare = base + costPerMile(totalMile) + costPerMinute(totalMinute)\n",
        "# we are going to do this for every ride_id\n",
        "costPerMile = 1.15\n",
        "costPerMinute = 0.22\n",
        "\n",
        "# convert since ride_distance is in meters and ride_duration is in seconds\n",
        "costPerMeter = 1.15 * (1 / 1609.34)\n",
        "costPerSecond = 0.22 * (1 / 60)\n",
        "merged['fare'] = 2.00 + costPerMeter * merged['ride_distance'] + costPerSecond *  merged['ride_duration']\n",
        "merged.head(10)"
      ],
      "execution_count": 0,
      "outputs": [
        {
          "output_type": "execute_result",
          "data": {
            "text/html": [
              "<div>\n",
              "<style scoped>\n",
              "    .dataframe tbody tr th:only-of-type {\n",
              "        vertical-align: middle;\n",
              "    }\n",
              "\n",
              "    .dataframe tbody tr th {\n",
              "        vertical-align: top;\n",
              "    }\n",
              "\n",
              "    .dataframe thead th {\n",
              "        text-align: right;\n",
              "    }\n",
              "</style>\n",
              "<table border=\"1\" class=\"dataframe\">\n",
              "  <thead>\n",
              "    <tr style=\"text-align: right;\">\n",
              "      <th></th>\n",
              "      <th>driver_id</th>\n",
              "      <th>driver_onboard_date</th>\n",
              "      <th>ride_id</th>\n",
              "      <th>ride_distance</th>\n",
              "      <th>ride_duration</th>\n",
              "      <th>ride_prime_time</th>\n",
              "      <th>event</th>\n",
              "      <th>timestamp</th>\n",
              "      <th>last_time_drove</th>\n",
              "      <th>life_time</th>\n",
              "      <th>fare</th>\n",
              "    </tr>\n",
              "  </thead>\n",
              "  <tbody>\n",
              "    <tr>\n",
              "      <th>0</th>\n",
              "      <td>002be0ffdc997bd5c50703158b7c2491</td>\n",
              "      <td>2016-03-29</td>\n",
              "      <td>006d61cf7446e682f7bc50b0f8a5bea5</td>\n",
              "      <td>1811</td>\n",
              "      <td>327</td>\n",
              "      <td>50</td>\n",
              "      <td>requested_at</td>\n",
              "      <td>2016-04-23 02:13:50</td>\n",
              "      <td>2016-06-23 10:29:53</td>\n",
              "      <td>86 days 10:29:53</td>\n",
              "      <td>4.493102</td>\n",
              "    </tr>\n",
              "    <tr>\n",
              "      <th>1</th>\n",
              "      <td>002be0ffdc997bd5c50703158b7c2491</td>\n",
              "      <td>2016-03-29</td>\n",
              "      <td>006d61cf7446e682f7bc50b0f8a5bea5</td>\n",
              "      <td>1811</td>\n",
              "      <td>327</td>\n",
              "      <td>50</td>\n",
              "      <td>accepted_at</td>\n",
              "      <td>2016-04-23 02:14:15</td>\n",
              "      <td>2016-06-23 10:29:53</td>\n",
              "      <td>86 days 10:29:53</td>\n",
              "      <td>4.493102</td>\n",
              "    </tr>\n",
              "    <tr>\n",
              "      <th>2</th>\n",
              "      <td>002be0ffdc997bd5c50703158b7c2491</td>\n",
              "      <td>2016-03-29</td>\n",
              "      <td>006d61cf7446e682f7bc50b0f8a5bea5</td>\n",
              "      <td>1811</td>\n",
              "      <td>327</td>\n",
              "      <td>50</td>\n",
              "      <td>arrived_at</td>\n",
              "      <td>2016-04-23 02:16:36</td>\n",
              "      <td>2016-06-23 10:29:53</td>\n",
              "      <td>86 days 10:29:53</td>\n",
              "      <td>4.493102</td>\n",
              "    </tr>\n",
              "    <tr>\n",
              "      <th>3</th>\n",
              "      <td>002be0ffdc997bd5c50703158b7c2491</td>\n",
              "      <td>2016-03-29</td>\n",
              "      <td>006d61cf7446e682f7bc50b0f8a5bea5</td>\n",
              "      <td>1811</td>\n",
              "      <td>327</td>\n",
              "      <td>50</td>\n",
              "      <td>picked_up_at</td>\n",
              "      <td>2016-04-23 02:16:40</td>\n",
              "      <td>2016-06-23 10:29:53</td>\n",
              "      <td>86 days 10:29:53</td>\n",
              "      <td>4.493102</td>\n",
              "    </tr>\n",
              "    <tr>\n",
              "      <th>4</th>\n",
              "      <td>002be0ffdc997bd5c50703158b7c2491</td>\n",
              "      <td>2016-03-29</td>\n",
              "      <td>006d61cf7446e682f7bc50b0f8a5bea5</td>\n",
              "      <td>1811</td>\n",
              "      <td>327</td>\n",
              "      <td>50</td>\n",
              "      <td>dropped_off_at</td>\n",
              "      <td>2016-04-23 02:22:07</td>\n",
              "      <td>2016-06-23 10:29:53</td>\n",
              "      <td>86 days 10:29:53</td>\n",
              "      <td>4.493102</td>\n",
              "    </tr>\n",
              "    <tr>\n",
              "      <th>5</th>\n",
              "      <td>002be0ffdc997bd5c50703158b7c2491</td>\n",
              "      <td>2016-03-29</td>\n",
              "      <td>01b522c5c3a756fbdb12e95e87507eda</td>\n",
              "      <td>3362</td>\n",
              "      <td>809</td>\n",
              "      <td>0</td>\n",
              "      <td>requested_at</td>\n",
              "      <td>2016-03-29 19:00:49</td>\n",
              "      <td>2016-06-23 10:29:53</td>\n",
              "      <td>86 days 10:29:53</td>\n",
              "      <td>7.368747</td>\n",
              "    </tr>\n",
              "    <tr>\n",
              "      <th>6</th>\n",
              "      <td>002be0ffdc997bd5c50703158b7c2491</td>\n",
              "      <td>2016-03-29</td>\n",
              "      <td>01b522c5c3a756fbdb12e95e87507eda</td>\n",
              "      <td>3362</td>\n",
              "      <td>809</td>\n",
              "      <td>0</td>\n",
              "      <td>accepted_at</td>\n",
              "      <td>2016-03-29 19:00:52</td>\n",
              "      <td>2016-06-23 10:29:53</td>\n",
              "      <td>86 days 10:29:53</td>\n",
              "      <td>7.368747</td>\n",
              "    </tr>\n",
              "    <tr>\n",
              "      <th>7</th>\n",
              "      <td>002be0ffdc997bd5c50703158b7c2491</td>\n",
              "      <td>2016-03-29</td>\n",
              "      <td>01b522c5c3a756fbdb12e95e87507eda</td>\n",
              "      <td>3362</td>\n",
              "      <td>809</td>\n",
              "      <td>0</td>\n",
              "      <td>arrived_at</td>\n",
              "      <td>2016-03-29 19:03:57</td>\n",
              "      <td>2016-06-23 10:29:53</td>\n",
              "      <td>86 days 10:29:53</td>\n",
              "      <td>7.368747</td>\n",
              "    </tr>\n",
              "    <tr>\n",
              "      <th>8</th>\n",
              "      <td>002be0ffdc997bd5c50703158b7c2491</td>\n",
              "      <td>2016-03-29</td>\n",
              "      <td>01b522c5c3a756fbdb12e95e87507eda</td>\n",
              "      <td>3362</td>\n",
              "      <td>809</td>\n",
              "      <td>0</td>\n",
              "      <td>picked_up_at</td>\n",
              "      <td>2016-03-29 19:04:01</td>\n",
              "      <td>2016-06-23 10:29:53</td>\n",
              "      <td>86 days 10:29:53</td>\n",
              "      <td>7.368747</td>\n",
              "    </tr>\n",
              "    <tr>\n",
              "      <th>9</th>\n",
              "      <td>002be0ffdc997bd5c50703158b7c2491</td>\n",
              "      <td>2016-03-29</td>\n",
              "      <td>01b522c5c3a756fbdb12e95e87507eda</td>\n",
              "      <td>3362</td>\n",
              "      <td>809</td>\n",
              "      <td>0</td>\n",
              "      <td>dropped_off_at</td>\n",
              "      <td>2016-03-29 19:17:30</td>\n",
              "      <td>2016-06-23 10:29:53</td>\n",
              "      <td>86 days 10:29:53</td>\n",
              "      <td>7.368747</td>\n",
              "    </tr>\n",
              "  </tbody>\n",
              "</table>\n",
              "</div>"
            ],
            "text/plain": [
              "                          driver_id  ...      fare\n",
              "0  002be0ffdc997bd5c50703158b7c2491  ...  4.493102\n",
              "1  002be0ffdc997bd5c50703158b7c2491  ...  4.493102\n",
              "2  002be0ffdc997bd5c50703158b7c2491  ...  4.493102\n",
              "3  002be0ffdc997bd5c50703158b7c2491  ...  4.493102\n",
              "4  002be0ffdc997bd5c50703158b7c2491  ...  4.493102\n",
              "5  002be0ffdc997bd5c50703158b7c2491  ...  7.368747\n",
              "6  002be0ffdc997bd5c50703158b7c2491  ...  7.368747\n",
              "7  002be0ffdc997bd5c50703158b7c2491  ...  7.368747\n",
              "8  002be0ffdc997bd5c50703158b7c2491  ...  7.368747\n",
              "9  002be0ffdc997bd5c50703158b7c2491  ...  7.368747\n",
              "\n",
              "[10 rows x 11 columns]"
            ]
          },
          "metadata": {
            "tags": []
          },
          "execution_count": 15
        }
      ]
    },
    {
      "cell_type": "markdown",
      "metadata": {
        "id": "qOqI4ftXGhkG",
        "colab_type": "text"
      },
      "source": [
        "**Fare for each ride**\n",
        "\n",
        "Calculated each ride's fare based on this formula.\n",
        "fare = base + costPerMile(totalMile) + costPerMinute(totalMinute)"
      ]
    },
    {
      "cell_type": "code",
      "metadata": {
        "id": "Ui-uhOIaskHa",
        "colab_type": "code",
        "outputId": "320ba66d-54c7-4993-be04-24ef7a870db8",
        "colab": {
          "base_uri": "https://localhost:8080/",
          "height": 309
        }
      },
      "source": [
        "# calculate total fare each driver generate\n",
        "# this will create a new Data Frame merged.groupby(['driver_id'])['fare'].sum()\n",
        "\n",
        "# this will make a new column in the existing dataframe transform(sum)\n",
        "merged['driver_revenue'] = merged.groupby(['driver_id'])['fare'].transform(sum)\n",
        "\n",
        "# divide by 5 because for each ride_id, we have 5 events and so if we sum\n",
        "# the fare column up, we will add the same fare for a ride 5 times\n",
        "merged['driver_revenue'] /= 5\n",
        "merged.head(5)\n",
        "\n",
        "# the reason why groupby driver_id, ride_id does not work well\n",
        "# because it will actually aggregate the table like this\n",
        "# driver_1 ride_1 <- if we use sum, it will find the sum of the fare for this instance (since each ride has 5 events)\n",
        "#                    the result will just be the fare * 5 and then it will move on to do the exact same thing for ride_2\n",
        "#          ride_2\n",
        "#          ride_3"
      ],
      "execution_count": 0,
      "outputs": [
        {
          "output_type": "execute_result",
          "data": {
            "text/html": [
              "<div>\n",
              "<style scoped>\n",
              "    .dataframe tbody tr th:only-of-type {\n",
              "        vertical-align: middle;\n",
              "    }\n",
              "\n",
              "    .dataframe tbody tr th {\n",
              "        vertical-align: top;\n",
              "    }\n",
              "\n",
              "    .dataframe thead th {\n",
              "        text-align: right;\n",
              "    }\n",
              "</style>\n",
              "<table border=\"1\" class=\"dataframe\">\n",
              "  <thead>\n",
              "    <tr style=\"text-align: right;\">\n",
              "      <th></th>\n",
              "      <th>driver_id</th>\n",
              "      <th>driver_onboard_date</th>\n",
              "      <th>ride_id</th>\n",
              "      <th>ride_distance</th>\n",
              "      <th>ride_duration</th>\n",
              "      <th>ride_prime_time</th>\n",
              "      <th>event</th>\n",
              "      <th>timestamp</th>\n",
              "      <th>last_time_drove</th>\n",
              "      <th>life_time</th>\n",
              "      <th>fare</th>\n",
              "      <th>driver_revenue</th>\n",
              "    </tr>\n",
              "  </thead>\n",
              "  <tbody>\n",
              "    <tr>\n",
              "      <th>0</th>\n",
              "      <td>002be0ffdc997bd5c50703158b7c2491</td>\n",
              "      <td>2016-03-29</td>\n",
              "      <td>006d61cf7446e682f7bc50b0f8a5bea5</td>\n",
              "      <td>1811</td>\n",
              "      <td>327</td>\n",
              "      <td>50</td>\n",
              "      <td>requested_at</td>\n",
              "      <td>2016-04-23 02:13:50</td>\n",
              "      <td>2016-06-23 10:29:53</td>\n",
              "      <td>86 days 10:29:53</td>\n",
              "      <td>4.493102</td>\n",
              "      <td>2608.77793</td>\n",
              "    </tr>\n",
              "    <tr>\n",
              "      <th>1</th>\n",
              "      <td>002be0ffdc997bd5c50703158b7c2491</td>\n",
              "      <td>2016-03-29</td>\n",
              "      <td>006d61cf7446e682f7bc50b0f8a5bea5</td>\n",
              "      <td>1811</td>\n",
              "      <td>327</td>\n",
              "      <td>50</td>\n",
              "      <td>accepted_at</td>\n",
              "      <td>2016-04-23 02:14:15</td>\n",
              "      <td>2016-06-23 10:29:53</td>\n",
              "      <td>86 days 10:29:53</td>\n",
              "      <td>4.493102</td>\n",
              "      <td>2608.77793</td>\n",
              "    </tr>\n",
              "    <tr>\n",
              "      <th>2</th>\n",
              "      <td>002be0ffdc997bd5c50703158b7c2491</td>\n",
              "      <td>2016-03-29</td>\n",
              "      <td>006d61cf7446e682f7bc50b0f8a5bea5</td>\n",
              "      <td>1811</td>\n",
              "      <td>327</td>\n",
              "      <td>50</td>\n",
              "      <td>arrived_at</td>\n",
              "      <td>2016-04-23 02:16:36</td>\n",
              "      <td>2016-06-23 10:29:53</td>\n",
              "      <td>86 days 10:29:53</td>\n",
              "      <td>4.493102</td>\n",
              "      <td>2608.77793</td>\n",
              "    </tr>\n",
              "    <tr>\n",
              "      <th>3</th>\n",
              "      <td>002be0ffdc997bd5c50703158b7c2491</td>\n",
              "      <td>2016-03-29</td>\n",
              "      <td>006d61cf7446e682f7bc50b0f8a5bea5</td>\n",
              "      <td>1811</td>\n",
              "      <td>327</td>\n",
              "      <td>50</td>\n",
              "      <td>picked_up_at</td>\n",
              "      <td>2016-04-23 02:16:40</td>\n",
              "      <td>2016-06-23 10:29:53</td>\n",
              "      <td>86 days 10:29:53</td>\n",
              "      <td>4.493102</td>\n",
              "      <td>2608.77793</td>\n",
              "    </tr>\n",
              "    <tr>\n",
              "      <th>4</th>\n",
              "      <td>002be0ffdc997bd5c50703158b7c2491</td>\n",
              "      <td>2016-03-29</td>\n",
              "      <td>006d61cf7446e682f7bc50b0f8a5bea5</td>\n",
              "      <td>1811</td>\n",
              "      <td>327</td>\n",
              "      <td>50</td>\n",
              "      <td>dropped_off_at</td>\n",
              "      <td>2016-04-23 02:22:07</td>\n",
              "      <td>2016-06-23 10:29:53</td>\n",
              "      <td>86 days 10:29:53</td>\n",
              "      <td>4.493102</td>\n",
              "      <td>2608.77793</td>\n",
              "    </tr>\n",
              "  </tbody>\n",
              "</table>\n",
              "</div>"
            ],
            "text/plain": [
              "                          driver_id  ... driver_revenue\n",
              "0  002be0ffdc997bd5c50703158b7c2491  ...     2608.77793\n",
              "1  002be0ffdc997bd5c50703158b7c2491  ...     2608.77793\n",
              "2  002be0ffdc997bd5c50703158b7c2491  ...     2608.77793\n",
              "3  002be0ffdc997bd5c50703158b7c2491  ...     2608.77793\n",
              "4  002be0ffdc997bd5c50703158b7c2491  ...     2608.77793\n",
              "\n",
              "[5 rows x 12 columns]"
            ]
          },
          "metadata": {
            "tags": []
          },
          "execution_count": 16
        }
      ]
    },
    {
      "cell_type": "code",
      "metadata": {
        "id": "agZOhfO-kk8e",
        "colab_type": "code",
        "outputId": "0e228c32-4301-46c8-abaf-a6aaaf0d76a6",
        "colab": {
          "base_uri": "https://localhost:8080/",
          "height": 153
        }
      },
      "source": [
        "# verifying whether we calculated total revenue\n",
        "# by summing all unique fare values of driver\n",
        "# 002be0ffdc997bd5c50703158b7c2491\n",
        "print('Revenue is:')\n",
        "print(sum(merged[merged['driver_id'] == '002be0ffdc997bd5c50703158b7c2491']['fare'].unique()))\n",
        "merged[merged['driver_id'] == '002be0ffdc997bd5c50703158b7c2491']['driver_revenue'].head(5)"
      ],
      "execution_count": 0,
      "outputs": [
        {
          "output_type": "stream",
          "text": [
            "Revenue is:\n",
            "2608.777930107995\n"
          ],
          "name": "stdout"
        },
        {
          "output_type": "execute_result",
          "data": {
            "text/plain": [
              "0    2608.77793\n",
              "1    2608.77793\n",
              "2    2608.77793\n",
              "3    2608.77793\n",
              "4    2608.77793\n",
              "Name: driver_revenue, dtype: float64"
            ]
          },
          "metadata": {
            "tags": []
          },
          "execution_count": 17
        }
      ]
    },
    {
      "cell_type": "markdown",
      "metadata": {
        "id": "3ZKUfCUir3iE",
        "colab_type": "text"
      },
      "source": [
        "We expected all the value in the driver_revenue column\n",
        "to be the same and they are the same.\n",
        "\n",
        "We used another way to calculate the sum. That is finding all unique fare value for a user and sum it up.\n",
        "\n",
        "The check verifies that the driver_revenue is correct."
      ]
    },
    {
      "cell_type": "code",
      "metadata": {
        "id": "IxkJbU-zN3lK",
        "colab_type": "code",
        "outputId": "e97da174-0cf8-461c-ba6d-e6dd553c7c29",
        "colab": {
          "base_uri": "https://localhost:8080/",
          "height": 170
        }
      },
      "source": [
        "merged['driver_revenue'].describe()"
      ],
      "execution_count": 0,
      "outputs": [
        {
          "output_type": "execute_result",
          "data": {
            "text/plain": [
              "count    921045.000000\n",
              "mean       3651.984571\n",
              "std        1732.330580\n",
              "min          19.348089\n",
              "25%        2496.077038\n",
              "50%        3447.223276\n",
              "75%        4659.086871\n",
              "max        9121.902143\n",
              "Name: driver_revenue, dtype: float64"
            ]
          },
          "metadata": {
            "tags": []
          },
          "execution_count": 18
        }
      ]
    },
    {
      "cell_type": "markdown",
      "metadata": {
        "id": "MPB6IEYAJSon",
        "colab_type": "text"
      },
      "source": [
        "**Calculate the total fare each driver generate**\n",
        "\n",
        "I used .transform() to make sure it creates another Pandas Column in the existing DF."
      ]
    },
    {
      "cell_type": "code",
      "metadata": {
        "id": "OgmPcZ5PGvC1",
        "colab_type": "code",
        "outputId": "2528ce29-7c6e-4950-a05d-67cc9d3bf65c",
        "colab": {
          "base_uri": "https://localhost:8080/",
          "height": 309
        }
      },
      "source": [
        "# calculate life time value\n",
        "# life_time_val = driver_revenue / life_time (for each driver)\n",
        "\n",
        "# converting life_time to number of days in float\n",
        "#merged['life_time_float'] = merged['life_time'].days\n",
        "merged['life_time_revenue'] = merged['driver_revenue'] / (merged['life_time'] / pd.to_timedelta(1, unit='D'))\n",
        "merged.head(5)"
      ],
      "execution_count": 0,
      "outputs": [
        {
          "output_type": "execute_result",
          "data": {
            "text/html": [
              "<div>\n",
              "<style scoped>\n",
              "    .dataframe tbody tr th:only-of-type {\n",
              "        vertical-align: middle;\n",
              "    }\n",
              "\n",
              "    .dataframe tbody tr th {\n",
              "        vertical-align: top;\n",
              "    }\n",
              "\n",
              "    .dataframe thead th {\n",
              "        text-align: right;\n",
              "    }\n",
              "</style>\n",
              "<table border=\"1\" class=\"dataframe\">\n",
              "  <thead>\n",
              "    <tr style=\"text-align: right;\">\n",
              "      <th></th>\n",
              "      <th>driver_id</th>\n",
              "      <th>driver_onboard_date</th>\n",
              "      <th>ride_id</th>\n",
              "      <th>ride_distance</th>\n",
              "      <th>ride_duration</th>\n",
              "      <th>ride_prime_time</th>\n",
              "      <th>event</th>\n",
              "      <th>timestamp</th>\n",
              "      <th>last_time_drove</th>\n",
              "      <th>life_time</th>\n",
              "      <th>fare</th>\n",
              "      <th>driver_revenue</th>\n",
              "      <th>life_time_revenue</th>\n",
              "    </tr>\n",
              "  </thead>\n",
              "  <tbody>\n",
              "    <tr>\n",
              "      <th>0</th>\n",
              "      <td>002be0ffdc997bd5c50703158b7c2491</td>\n",
              "      <td>2016-03-29</td>\n",
              "      <td>006d61cf7446e682f7bc50b0f8a5bea5</td>\n",
              "      <td>1811</td>\n",
              "      <td>327</td>\n",
              "      <td>50</td>\n",
              "      <td>requested_at</td>\n",
              "      <td>2016-04-23 02:13:50</td>\n",
              "      <td>2016-06-23 10:29:53</td>\n",
              "      <td>86 days 10:29:53</td>\n",
              "      <td>4.493102</td>\n",
              "      <td>2608.77793</td>\n",
              "      <td>30.181118</td>\n",
              "    </tr>\n",
              "    <tr>\n",
              "      <th>1</th>\n",
              "      <td>002be0ffdc997bd5c50703158b7c2491</td>\n",
              "      <td>2016-03-29</td>\n",
              "      <td>006d61cf7446e682f7bc50b0f8a5bea5</td>\n",
              "      <td>1811</td>\n",
              "      <td>327</td>\n",
              "      <td>50</td>\n",
              "      <td>accepted_at</td>\n",
              "      <td>2016-04-23 02:14:15</td>\n",
              "      <td>2016-06-23 10:29:53</td>\n",
              "      <td>86 days 10:29:53</td>\n",
              "      <td>4.493102</td>\n",
              "      <td>2608.77793</td>\n",
              "      <td>30.181118</td>\n",
              "    </tr>\n",
              "    <tr>\n",
              "      <th>2</th>\n",
              "      <td>002be0ffdc997bd5c50703158b7c2491</td>\n",
              "      <td>2016-03-29</td>\n",
              "      <td>006d61cf7446e682f7bc50b0f8a5bea5</td>\n",
              "      <td>1811</td>\n",
              "      <td>327</td>\n",
              "      <td>50</td>\n",
              "      <td>arrived_at</td>\n",
              "      <td>2016-04-23 02:16:36</td>\n",
              "      <td>2016-06-23 10:29:53</td>\n",
              "      <td>86 days 10:29:53</td>\n",
              "      <td>4.493102</td>\n",
              "      <td>2608.77793</td>\n",
              "      <td>30.181118</td>\n",
              "    </tr>\n",
              "    <tr>\n",
              "      <th>3</th>\n",
              "      <td>002be0ffdc997bd5c50703158b7c2491</td>\n",
              "      <td>2016-03-29</td>\n",
              "      <td>006d61cf7446e682f7bc50b0f8a5bea5</td>\n",
              "      <td>1811</td>\n",
              "      <td>327</td>\n",
              "      <td>50</td>\n",
              "      <td>picked_up_at</td>\n",
              "      <td>2016-04-23 02:16:40</td>\n",
              "      <td>2016-06-23 10:29:53</td>\n",
              "      <td>86 days 10:29:53</td>\n",
              "      <td>4.493102</td>\n",
              "      <td>2608.77793</td>\n",
              "      <td>30.181118</td>\n",
              "    </tr>\n",
              "    <tr>\n",
              "      <th>4</th>\n",
              "      <td>002be0ffdc997bd5c50703158b7c2491</td>\n",
              "      <td>2016-03-29</td>\n",
              "      <td>006d61cf7446e682f7bc50b0f8a5bea5</td>\n",
              "      <td>1811</td>\n",
              "      <td>327</td>\n",
              "      <td>50</td>\n",
              "      <td>dropped_off_at</td>\n",
              "      <td>2016-04-23 02:22:07</td>\n",
              "      <td>2016-06-23 10:29:53</td>\n",
              "      <td>86 days 10:29:53</td>\n",
              "      <td>4.493102</td>\n",
              "      <td>2608.77793</td>\n",
              "      <td>30.181118</td>\n",
              "    </tr>\n",
              "  </tbody>\n",
              "</table>\n",
              "</div>"
            ],
            "text/plain": [
              "                          driver_id  ... life_time_revenue\n",
              "0  002be0ffdc997bd5c50703158b7c2491  ...         30.181118\n",
              "1  002be0ffdc997bd5c50703158b7c2491  ...         30.181118\n",
              "2  002be0ffdc997bd5c50703158b7c2491  ...         30.181118\n",
              "3  002be0ffdc997bd5c50703158b7c2491  ...         30.181118\n",
              "4  002be0ffdc997bd5c50703158b7c2491  ...         30.181118\n",
              "\n",
              "[5 rows x 13 columns]"
            ]
          },
          "metadata": {
            "tags": []
          },
          "execution_count": 19
        }
      ]
    },
    {
      "cell_type": "markdown",
      "metadata": {
        "id": "fnQF8lO3Li4T",
        "colab_type": "text"
      },
      "source": [
        "**Calculate life_time_revenue**\n",
        "\n",
        "This is equivalent to how much revenue a Lyft Driver makes in a day. "
      ]
    },
    {
      "cell_type": "code",
      "metadata": {
        "id": "A413QH3gskHd",
        "colab_type": "code",
        "outputId": "32a16fc1-46f8-47ca-d169-7df0881bc1b4",
        "colab": {
          "base_uri": "https://localhost:8080/",
          "height": 170
        }
      },
      "source": [
        "# get summary statistic for life_time_revenue\n",
        "merged.describe()['life_time_revenue']"
      ],
      "execution_count": 0,
      "outputs": [
        {
          "output_type": "execute_result",
          "data": {
            "text/plain": [
              "count    921045.000000\n",
              "mean         57.294050\n",
              "std          27.452919\n",
              "min           0.458202\n",
              "25%          37.731548\n",
              "50%          53.704554\n",
              "75%          73.564973\n",
              "max         201.326519\n",
              "Name: life_time_revenue, dtype: float64"
            ]
          },
          "metadata": {
            "tags": []
          },
          "execution_count": 20
        }
      ]
    },
    {
      "cell_type": "markdown",
      "metadata": {
        "id": "L4X7npXiMMAQ",
        "colab_type": "text"
      },
      "source": [
        "**Summary stat for life time revenue**\n",
        "On average, a driver generates about $57 dollars per day for Lyft. (account for both work and non-work days as well)\n",
        "\n",
        "The next question is on the days that they do work, how much do they generate for Lyft? And on those workday, how far and long do they have to drive?\n"
      ]
    },
    {
      "cell_type": "code",
      "metadata": {
        "id": "sOd1h9lDf-6a",
        "colab_type": "code",
        "colab": {}
      },
      "source": [
        "# calculating revenue per ride\n",
        "value_df = merged.groupby('driver_id')['driver_revenue'].unique().values / merged.groupby('driver_id')['ride_id'].nunique()\n",
        "value_df = pd.DataFrame({'driver_id': value_df.index, 'avg_rev_per_ride' : value_df.values})\n",
        "value_df['avg_rev_per_ride'] = value_df['avg_rev_per_ride'].apply(lambda x: x[0])"
      ],
      "execution_count": 0,
      "outputs": []
    },
    {
      "cell_type": "code",
      "metadata": {
        "id": "z56AkJBCzzoe",
        "colab_type": "code",
        "outputId": "b038d1f3-a325-4b4b-ae89-9891be8748e6",
        "colab": {
          "base_uri": "https://localhost:8080/",
          "height": 85
        }
      },
      "source": [
        "# verifying whether we calculated average revenue\n",
        "# per ride for driver 002be0ffdc997bd5c50703158b7c2491\n",
        "print('AVG Rev per Ride is:')\n",
        "print(merged[merged['driver_id'] == '002be0ffdc997bd5c50703158b7c2491']['driver_revenue'].unique() / merged[merged['driver_id'] == '002be0ffdc997bd5c50703158b7c2491']['ride_id'].nunique())\n",
        "print(value_df[value_df['driver_id'] == '002be0ffdc997bd5c50703158b7c2491'])"
      ],
      "execution_count": 0,
      "outputs": [
        {
          "output_type": "stream",
          "text": [
            "AVG Rev per Ride is:\n",
            "[9.41797087]\n",
            "                          driver_id  avg_rev_per_ride\n",
            "0  002be0ffdc997bd5c50703158b7c2491          9.417971\n"
          ],
          "name": "stdout"
        }
      ]
    },
    {
      "cell_type": "markdown",
      "metadata": {
        "id": "jcRGd-jE07-p",
        "colab_type": "text"
      },
      "source": [
        "We verified that the average revenue per ride is calculated right. "
      ]
    },
    {
      "cell_type": "code",
      "metadata": {
        "id": "Rlc__Y_Rg0P3",
        "colab_type": "code",
        "outputId": "4771e9d9-7b44-4f99-8d1a-bde244df31e5",
        "colab": {
          "base_uri": "https://localhost:8080/",
          "height": 170
        }
      },
      "source": [
        "value_df['avg_rev_per_ride'].describe()"
      ],
      "execution_count": 0,
      "outputs": [
        {
          "output_type": "execute_result",
          "data": {
            "text/plain": [
              "count    837.000000\n",
              "mean      10.300526\n",
              "std        1.776365\n",
              "min        6.449363\n",
              "25%        9.165920\n",
              "50%        9.894338\n",
              "75%       11.087197\n",
              "max       26.143721\n",
              "Name: avg_rev_per_ride, dtype: float64"
            ]
          },
          "metadata": {
            "tags": []
          },
          "execution_count": 23
        }
      ]
    },
    {
      "cell_type": "markdown",
      "metadata": {
        "id": "xrffilLV53KU",
        "colab_type": "text"
      },
      "source": [
        "The average revenue per ride is about 10 dollars. "
      ]
    },
    {
      "cell_type": "markdown",
      "metadata": {
        "id": "kysIWnAu6UvD",
        "colab_type": "text"
      },
      "source": [
        "***What day of week has the most ride?***\n",
        "We are going to convert all timestamp to day of week. Since each timestamp is associated with an event of a ride, and since each ride has the same number of event (5), then we just need to find the one that appears the most."
      ]
    },
    {
      "cell_type": "code",
      "metadata": {
        "id": "UEsPt9sD6rUw",
        "colab_type": "code",
        "outputId": "bcd279f1-5b46-4404-fbf3-e3ddbf406461",
        "colab": {
          "base_uri": "https://localhost:8080/",
          "height": 102
        }
      },
      "source": [
        "merged['dow'] = merged['timestamp'].dt.day_name()\n",
        "merged['dow'].describe()"
      ],
      "execution_count": 0,
      "outputs": [
        {
          "output_type": "execute_result",
          "data": {
            "text/plain": [
              "count     921044\n",
              "unique         7\n",
              "top       Friday\n",
              "freq      160961\n",
              "Name: dow, dtype: object"
            ]
          },
          "metadata": {
            "tags": []
          },
          "execution_count": 24
        }
      ]
    },
    {
      "cell_type": "markdown",
      "metadata": {
        "id": "M6VOhS8S7qw3",
        "colab_type": "text"
      },
      "source": [
        "The day with the most rides is Friday."
      ]
    },
    {
      "cell_type": "code",
      "metadata": {
        "id": "Y6HNxE0070c9",
        "colab_type": "code",
        "outputId": "07b9e5b4-4be4-4fa3-83c7-9ef8917bc488",
        "colab": {
          "base_uri": "https://localhost:8080/",
          "height": 170
        }
      },
      "source": [
        "merged.groupby(['dow'])['fare'].sum()"
      ],
      "execution_count": 0,
      "outputs": [
        {
          "output_type": "execute_result",
          "data": {
            "text/plain": [
              "dow\n",
              "Friday       1.615512e+06\n",
              "Monday       1.069051e+06\n",
              "Saturday     1.505568e+06\n",
              "Sunday       1.184089e+06\n",
              "Thursday     1.437297e+06\n",
              "Tuesday      1.196490e+06\n",
              "Wednesday    1.309050e+06\n",
              "Name: fare, dtype: float64"
            ]
          },
          "metadata": {
            "tags": []
          },
          "execution_count": 25
        }
      ]
    },
    {
      "cell_type": "code",
      "metadata": {
        "id": "llUvviJMQ8ZU",
        "colab_type": "code",
        "outputId": "f32d0e18-d34c-4925-9beb-d812913632f5",
        "colab": {
          "base_uri": "https://localhost:8080/",
          "height": 51
        }
      },
      "source": [
        "print('Total revenue is: ')\n",
        "merged['fare'].sum() / 5"
      ],
      "execution_count": 0,
      "outputs": [
        {
          "output_type": "stream",
          "text": [
            "Total revenue is: \n"
          ],
          "name": "stdout"
        },
        {
          "output_type": "execute_result",
          "data": {
            "text/plain": [
              "1863413.034823614"
            ]
          },
          "metadata": {
            "tags": []
          },
          "execution_count": 26
        }
      ]
    },
    {
      "cell_type": "code",
      "metadata": {
        "id": "H3vnmgEf9Scq",
        "colab_type": "code",
        "outputId": "b0fbdbd0-d290-4d08-b97b-6d69a2ce9ab0",
        "colab": {
          "base_uri": "https://localhost:8080/",
          "height": 68
        }
      },
      "source": [
        "print(max(ts['timestamp']))\n",
        "print(min(ts['timestamp']))\n",
        "print(max(ts['timestamp']) - min(ts['timestamp']))"
      ],
      "execution_count": 0,
      "outputs": [
        {
          "output_type": "stream",
          "text": [
            "2016-06-27 00:50:50\n",
            "2016-03-28 05:48:18\n",
            "90 days 19:02:32\n"
          ],
          "name": "stdout"
        }
      ]
    },
    {
      "cell_type": "markdown",
      "metadata": {
        "id": "G0Ft8jwC8J0g",
        "colab_type": "text"
      },
      "source": [
        "Friday also makes the most money with 5.8 million dollars. For SF alone. \n",
        "\n",
        "So for SF, Lyft makes about 1.86 millions in 90 days in 2016.\n",
        "\n",
        "For year 2016, Lyft made about 700 millions. \n",
        "\n",
        "So SF contributed to 1.077% of Lyft's total revenue in the year of 2016.\n",
        "\n",
        "(1.86 / 90 * 365) / 700\n",
        "\n"
      ]
    },
    {
      "cell_type": "code",
      "metadata": {
        "id": "65P3sPjt91KA",
        "colab_type": "code",
        "outputId": "4e2f2087-96fe-431a-b975-00f50e73e9e9",
        "colab": {
          "base_uri": "https://localhost:8080/",
          "height": 549
        }
      },
      "source": [
        "merged['tod'] = merged['timestamp'].dt.hour\n",
        "merged.head(10)"
      ],
      "execution_count": 0,
      "outputs": [
        {
          "output_type": "execute_result",
          "data": {
            "text/html": [
              "<div>\n",
              "<style scoped>\n",
              "    .dataframe tbody tr th:only-of-type {\n",
              "        vertical-align: middle;\n",
              "    }\n",
              "\n",
              "    .dataframe tbody tr th {\n",
              "        vertical-align: top;\n",
              "    }\n",
              "\n",
              "    .dataframe thead th {\n",
              "        text-align: right;\n",
              "    }\n",
              "</style>\n",
              "<table border=\"1\" class=\"dataframe\">\n",
              "  <thead>\n",
              "    <tr style=\"text-align: right;\">\n",
              "      <th></th>\n",
              "      <th>driver_id</th>\n",
              "      <th>driver_onboard_date</th>\n",
              "      <th>ride_id</th>\n",
              "      <th>ride_distance</th>\n",
              "      <th>ride_duration</th>\n",
              "      <th>ride_prime_time</th>\n",
              "      <th>event</th>\n",
              "      <th>timestamp</th>\n",
              "      <th>last_time_drove</th>\n",
              "      <th>life_time</th>\n",
              "      <th>fare</th>\n",
              "      <th>driver_revenue</th>\n",
              "      <th>life_time_revenue</th>\n",
              "      <th>dow</th>\n",
              "      <th>tod</th>\n",
              "    </tr>\n",
              "  </thead>\n",
              "  <tbody>\n",
              "    <tr>\n",
              "      <th>0</th>\n",
              "      <td>002be0ffdc997bd5c50703158b7c2491</td>\n",
              "      <td>2016-03-29</td>\n",
              "      <td>006d61cf7446e682f7bc50b0f8a5bea5</td>\n",
              "      <td>1811</td>\n",
              "      <td>327</td>\n",
              "      <td>50</td>\n",
              "      <td>requested_at</td>\n",
              "      <td>2016-04-23 02:13:50</td>\n",
              "      <td>2016-06-23 10:29:53</td>\n",
              "      <td>86 days 10:29:53</td>\n",
              "      <td>4.493102</td>\n",
              "      <td>2608.77793</td>\n",
              "      <td>30.181118</td>\n",
              "      <td>Saturday</td>\n",
              "      <td>2.0</td>\n",
              "    </tr>\n",
              "    <tr>\n",
              "      <th>1</th>\n",
              "      <td>002be0ffdc997bd5c50703158b7c2491</td>\n",
              "      <td>2016-03-29</td>\n",
              "      <td>006d61cf7446e682f7bc50b0f8a5bea5</td>\n",
              "      <td>1811</td>\n",
              "      <td>327</td>\n",
              "      <td>50</td>\n",
              "      <td>accepted_at</td>\n",
              "      <td>2016-04-23 02:14:15</td>\n",
              "      <td>2016-06-23 10:29:53</td>\n",
              "      <td>86 days 10:29:53</td>\n",
              "      <td>4.493102</td>\n",
              "      <td>2608.77793</td>\n",
              "      <td>30.181118</td>\n",
              "      <td>Saturday</td>\n",
              "      <td>2.0</td>\n",
              "    </tr>\n",
              "    <tr>\n",
              "      <th>2</th>\n",
              "      <td>002be0ffdc997bd5c50703158b7c2491</td>\n",
              "      <td>2016-03-29</td>\n",
              "      <td>006d61cf7446e682f7bc50b0f8a5bea5</td>\n",
              "      <td>1811</td>\n",
              "      <td>327</td>\n",
              "      <td>50</td>\n",
              "      <td>arrived_at</td>\n",
              "      <td>2016-04-23 02:16:36</td>\n",
              "      <td>2016-06-23 10:29:53</td>\n",
              "      <td>86 days 10:29:53</td>\n",
              "      <td>4.493102</td>\n",
              "      <td>2608.77793</td>\n",
              "      <td>30.181118</td>\n",
              "      <td>Saturday</td>\n",
              "      <td>2.0</td>\n",
              "    </tr>\n",
              "    <tr>\n",
              "      <th>3</th>\n",
              "      <td>002be0ffdc997bd5c50703158b7c2491</td>\n",
              "      <td>2016-03-29</td>\n",
              "      <td>006d61cf7446e682f7bc50b0f8a5bea5</td>\n",
              "      <td>1811</td>\n",
              "      <td>327</td>\n",
              "      <td>50</td>\n",
              "      <td>picked_up_at</td>\n",
              "      <td>2016-04-23 02:16:40</td>\n",
              "      <td>2016-06-23 10:29:53</td>\n",
              "      <td>86 days 10:29:53</td>\n",
              "      <td>4.493102</td>\n",
              "      <td>2608.77793</td>\n",
              "      <td>30.181118</td>\n",
              "      <td>Saturday</td>\n",
              "      <td>2.0</td>\n",
              "    </tr>\n",
              "    <tr>\n",
              "      <th>4</th>\n",
              "      <td>002be0ffdc997bd5c50703158b7c2491</td>\n",
              "      <td>2016-03-29</td>\n",
              "      <td>006d61cf7446e682f7bc50b0f8a5bea5</td>\n",
              "      <td>1811</td>\n",
              "      <td>327</td>\n",
              "      <td>50</td>\n",
              "      <td>dropped_off_at</td>\n",
              "      <td>2016-04-23 02:22:07</td>\n",
              "      <td>2016-06-23 10:29:53</td>\n",
              "      <td>86 days 10:29:53</td>\n",
              "      <td>4.493102</td>\n",
              "      <td>2608.77793</td>\n",
              "      <td>30.181118</td>\n",
              "      <td>Saturday</td>\n",
              "      <td>2.0</td>\n",
              "    </tr>\n",
              "    <tr>\n",
              "      <th>5</th>\n",
              "      <td>002be0ffdc997bd5c50703158b7c2491</td>\n",
              "      <td>2016-03-29</td>\n",
              "      <td>01b522c5c3a756fbdb12e95e87507eda</td>\n",
              "      <td>3362</td>\n",
              "      <td>809</td>\n",
              "      <td>0</td>\n",
              "      <td>requested_at</td>\n",
              "      <td>2016-03-29 19:00:49</td>\n",
              "      <td>2016-06-23 10:29:53</td>\n",
              "      <td>86 days 10:29:53</td>\n",
              "      <td>7.368747</td>\n",
              "      <td>2608.77793</td>\n",
              "      <td>30.181118</td>\n",
              "      <td>Tuesday</td>\n",
              "      <td>19.0</td>\n",
              "    </tr>\n",
              "    <tr>\n",
              "      <th>6</th>\n",
              "      <td>002be0ffdc997bd5c50703158b7c2491</td>\n",
              "      <td>2016-03-29</td>\n",
              "      <td>01b522c5c3a756fbdb12e95e87507eda</td>\n",
              "      <td>3362</td>\n",
              "      <td>809</td>\n",
              "      <td>0</td>\n",
              "      <td>accepted_at</td>\n",
              "      <td>2016-03-29 19:00:52</td>\n",
              "      <td>2016-06-23 10:29:53</td>\n",
              "      <td>86 days 10:29:53</td>\n",
              "      <td>7.368747</td>\n",
              "      <td>2608.77793</td>\n",
              "      <td>30.181118</td>\n",
              "      <td>Tuesday</td>\n",
              "      <td>19.0</td>\n",
              "    </tr>\n",
              "    <tr>\n",
              "      <th>7</th>\n",
              "      <td>002be0ffdc997bd5c50703158b7c2491</td>\n",
              "      <td>2016-03-29</td>\n",
              "      <td>01b522c5c3a756fbdb12e95e87507eda</td>\n",
              "      <td>3362</td>\n",
              "      <td>809</td>\n",
              "      <td>0</td>\n",
              "      <td>arrived_at</td>\n",
              "      <td>2016-03-29 19:03:57</td>\n",
              "      <td>2016-06-23 10:29:53</td>\n",
              "      <td>86 days 10:29:53</td>\n",
              "      <td>7.368747</td>\n",
              "      <td>2608.77793</td>\n",
              "      <td>30.181118</td>\n",
              "      <td>Tuesday</td>\n",
              "      <td>19.0</td>\n",
              "    </tr>\n",
              "    <tr>\n",
              "      <th>8</th>\n",
              "      <td>002be0ffdc997bd5c50703158b7c2491</td>\n",
              "      <td>2016-03-29</td>\n",
              "      <td>01b522c5c3a756fbdb12e95e87507eda</td>\n",
              "      <td>3362</td>\n",
              "      <td>809</td>\n",
              "      <td>0</td>\n",
              "      <td>picked_up_at</td>\n",
              "      <td>2016-03-29 19:04:01</td>\n",
              "      <td>2016-06-23 10:29:53</td>\n",
              "      <td>86 days 10:29:53</td>\n",
              "      <td>7.368747</td>\n",
              "      <td>2608.77793</td>\n",
              "      <td>30.181118</td>\n",
              "      <td>Tuesday</td>\n",
              "      <td>19.0</td>\n",
              "    </tr>\n",
              "    <tr>\n",
              "      <th>9</th>\n",
              "      <td>002be0ffdc997bd5c50703158b7c2491</td>\n",
              "      <td>2016-03-29</td>\n",
              "      <td>01b522c5c3a756fbdb12e95e87507eda</td>\n",
              "      <td>3362</td>\n",
              "      <td>809</td>\n",
              "      <td>0</td>\n",
              "      <td>dropped_off_at</td>\n",
              "      <td>2016-03-29 19:17:30</td>\n",
              "      <td>2016-06-23 10:29:53</td>\n",
              "      <td>86 days 10:29:53</td>\n",
              "      <td>7.368747</td>\n",
              "      <td>2608.77793</td>\n",
              "      <td>30.181118</td>\n",
              "      <td>Tuesday</td>\n",
              "      <td>19.0</td>\n",
              "    </tr>\n",
              "  </tbody>\n",
              "</table>\n",
              "</div>"
            ],
            "text/plain": [
              "                          driver_id driver_onboard_date  ...       dow   tod\n",
              "0  002be0ffdc997bd5c50703158b7c2491          2016-03-29  ...  Saturday   2.0\n",
              "1  002be0ffdc997bd5c50703158b7c2491          2016-03-29  ...  Saturday   2.0\n",
              "2  002be0ffdc997bd5c50703158b7c2491          2016-03-29  ...  Saturday   2.0\n",
              "3  002be0ffdc997bd5c50703158b7c2491          2016-03-29  ...  Saturday   2.0\n",
              "4  002be0ffdc997bd5c50703158b7c2491          2016-03-29  ...  Saturday   2.0\n",
              "5  002be0ffdc997bd5c50703158b7c2491          2016-03-29  ...   Tuesday  19.0\n",
              "6  002be0ffdc997bd5c50703158b7c2491          2016-03-29  ...   Tuesday  19.0\n",
              "7  002be0ffdc997bd5c50703158b7c2491          2016-03-29  ...   Tuesday  19.0\n",
              "8  002be0ffdc997bd5c50703158b7c2491          2016-03-29  ...   Tuesday  19.0\n",
              "9  002be0ffdc997bd5c50703158b7c2491          2016-03-29  ...   Tuesday  19.0\n",
              "\n",
              "[10 rows x 15 columns]"
            ]
          },
          "metadata": {
            "tags": []
          },
          "execution_count": 28
        }
      ]
    },
    {
      "cell_type": "code",
      "metadata": {
        "id": "IEcN9IUX-xW1",
        "colab_type": "code",
        "outputId": "8a9c5342-e345-492b-aab2-01fddca759f5",
        "colab": {
          "base_uri": "https://localhost:8080/",
          "height": 459
        }
      },
      "source": [
        "#merged.groupby(['tod']).describe()\n",
        "#divide it by 5 because of 5 events per each ride_id\n",
        "merged.groupby(['tod']).count().ride_id / 5"
      ],
      "execution_count": 0,
      "outputs": [
        {
          "output_type": "execute_result",
          "data": {
            "text/plain": [
              "tod\n",
              "0.0      6558.0\n",
              "1.0      4784.4\n",
              "2.0      2961.4\n",
              "3.0      1447.2\n",
              "4.0      1175.0\n",
              "5.0      1584.4\n",
              "6.0      3222.8\n",
              "7.0      6278.8\n",
              "8.0      8380.4\n",
              "9.0      9293.8\n",
              "10.0     8262.4\n",
              "11.0     7841.0\n",
              "12.0     7750.8\n",
              "13.0     7431.0\n",
              "14.0     7522.8\n",
              "15.0     8094.4\n",
              "16.0     9114.0\n",
              "17.0    10867.8\n",
              "18.0    13106.2\n",
              "19.0    13419.6\n",
              "20.0    12195.4\n",
              "21.0    12190.8\n",
              "22.0    11421.6\n",
              "23.0     9304.8\n",
              "Name: ride_id, dtype: float64"
            ]
          },
          "metadata": {
            "tags": []
          },
          "execution_count": 29
        }
      ]
    },
    {
      "cell_type": "markdown",
      "metadata": {
        "id": "faXsdaPmAEpc",
        "colab_type": "text"
      },
      "source": [
        "From above observation, the most ride occurs at 6 to 9 PM."
      ]
    },
    {
      "cell_type": "code",
      "metadata": {
        "id": "vzklKODc-3aV",
        "colab_type": "code",
        "outputId": "3a2b5f6d-71ad-422e-b8b9-f09a80563164",
        "colab": {
          "base_uri": "https://localhost:8080/",
          "height": 459
        }
      },
      "source": [
        "merged.groupby(['tod'])['fare'].sum() / 5"
      ],
      "execution_count": 0,
      "outputs": [
        {
          "output_type": "execute_result",
          "data": {
            "text/plain": [
              "tod\n",
              "0.0      63979.784915\n",
              "1.0      48964.690885\n",
              "2.0      30993.605208\n",
              "3.0      17419.738818\n",
              "4.0      17238.849016\n",
              "5.0      22570.907215\n",
              "6.0      39218.427445\n",
              "7.0      68535.060819\n",
              "8.0      86538.303069\n",
              "9.0      94338.221707\n",
              "10.0     87203.814110\n",
              "11.0     84036.869182\n",
              "12.0     81898.945708\n",
              "13.0     76277.721373\n",
              "14.0     78368.104441\n",
              "15.0     85594.580718\n",
              "16.0     93416.326386\n",
              "17.0    108764.176751\n",
              "18.0    124308.532819\n",
              "19.0    123649.708568\n",
              "20.0    115032.020790\n",
              "21.0    116013.840974\n",
              "22.0    110170.347266\n",
              "23.0     88878.800190\n",
              "Name: fare, dtype: float64"
            ]
          },
          "metadata": {
            "tags": []
          },
          "execution_count": 30
        }
      ]
    },
    {
      "cell_type": "markdown",
      "metadata": {
        "id": "EzX1y_qNA6p5",
        "colab_type": "text"
      },
      "source": [
        "It also shows that during 6 - 9 PM, Lyft makes the most revenue as well. "
      ]
    },
    {
      "cell_type": "markdown",
      "metadata": {
        "id": "zvu7qDwLBLvG",
        "colab_type": "text"
      },
      "source": [
        "So the time to make the most revenue is about 6-9 PM on a Friday night. "
      ]
    },
    {
      "cell_type": "markdown",
      "metadata": {
        "id": "8SfPueA0NAqB",
        "colab_type": "text"
      },
      "source": [
        "Next we will do analysis on primtime. "
      ]
    },
    {
      "cell_type": "code",
      "metadata": {
        "id": "DBpZQdxKskHg",
        "colab_type": "code",
        "outputId": "a23410a3-21ef-4471-ad24-bd3206e618e5",
        "colab": {
          "base_uri": "https://localhost:8080/",
          "height": 85
        }
      },
      "source": [
        "# compare the revenue with primetime\n",
        "# to no primetime \n",
        "print('Revenue for all rides with primetime')\n",
        "print(sum(merged[merged['ride_prime_time'] > 0]['fare']) / 5)\n",
        "print('Revenue for all rides with no primetime')\n",
        "print(sum(merged[merged['ride_prime_time'] == 0]['fare']) / 5)"
      ],
      "execution_count": 0,
      "outputs": [
        {
          "output_type": "stream",
          "text": [
            "Revenue for all rides with primetime\n",
            "619149.3439871473\n",
            "Revenue for all rides with no primetime\n",
            "1244263.6908364398\n"
          ],
          "name": "stdout"
        }
      ]
    },
    {
      "cell_type": "markdown",
      "metadata": {
        "id": "D9yeE4XzSc6W",
        "colab_type": "text"
      },
      "source": [
        "Revenue for rides with no prime time\n",
        "is 1.24 millions dollars while rides with some primtime is 619 thousands dollars."
      ]
    },
    {
      "cell_type": "markdown",
      "metadata": {
        "id": "GDUTGbpyO6Nx",
        "colab_type": "text"
      },
      "source": [
        "The next questions are how long and far do they drive per day?"
      ]
    },
    {
      "cell_type": "code",
      "metadata": {
        "id": "HpC5-NBnTYoB",
        "colab_type": "code",
        "outputId": "8a094168-0b88-4fa6-be82-d322e246ed84",
        "colab": {
          "base_uri": "https://localhost:8080/",
          "height": 85
        }
      },
      "source": [
        "# compare the number of rides with primetime\n",
        "# to no primetime \n",
        "print('Number of rides for all rides with primetime')\n",
        "print(len(merged[merged['ride_prime_time'] > 0]['ride_id']) / 5)\n",
        "print('Number for all rides with no primetime')\n",
        "print(len(merged[merged['ride_prime_time'] == 0]['ride_id']) / 5)"
      ],
      "execution_count": 0,
      "outputs": [
        {
          "output_type": "stream",
          "text": [
            "Number of rides for all rides with primetime\n",
            "65102.0\n",
            "Number for all rides with no primetime\n",
            "119107.0\n"
          ],
          "name": "stdout"
        }
      ]
    },
    {
      "cell_type": "code",
      "metadata": {
        "id": "LJFn4Lb-U6QG",
        "colab_type": "code",
        "outputId": "bf14d750-82b4-4276-f3b0-a12aef0ddf1b",
        "colab": {
          "base_uri": "https://localhost:8080/",
          "height": 170
        }
      },
      "source": [
        "# looking at primetime get per day\n",
        "# in seconds\n",
        "merged['ttl_prime_time'] = merged.groupby(['driver_id'])['ride_prime_time'].transform(sum) / 5\n",
        "merged['ttl_prime_time'].describe()"
      ],
      "execution_count": 0,
      "outputs": [
        {
          "output_type": "execute_result",
          "data": {
            "text/plain": [
              "count    921045.000000\n",
              "mean       6473.896498\n",
              "std        3772.577760\n",
              "min           0.000000\n",
              "25%        4000.000000\n",
              "50%        5900.000000\n",
              "75%        8375.000000\n",
              "max       19675.000000\n",
              "Name: ttl_prime_time, dtype: float64"
            ]
          },
          "metadata": {
            "tags": []
          },
          "execution_count": 33
        }
      ]
    },
    {
      "cell_type": "markdown",
      "metadata": {
        "id": "o7RfudW-WiL1",
        "colab_type": "text"
      },
      "source": [
        "We have 4 segments:\n",
        "0 -> 4000 \n",
        "\n",
        "4000 -> 5900\n",
        "\n",
        "5900 -> 8375\n",
        "\n",
        "8375 > "
      ]
    },
    {
      "cell_type": "markdown",
      "metadata": {
        "id": "4_sJ_jm5WyPI",
        "colab_type": "text"
      },
      "source": [
        "For each of these segment, we are going to find the average life time of a driver"
      ]
    },
    {
      "cell_type": "code",
      "metadata": {
        "id": "1wCsLRxXX2GC",
        "colab_type": "code",
        "outputId": "fbe95a89-ff2f-4c87-ae1d-9c95cd173b78",
        "colab": {
          "base_uri": "https://localhost:8080/",
          "height": 85
        }
      },
      "source": [
        "time_segments = [4000, 5900, 8375, 19675]\n",
        "minimum = 0\n",
        "maximum = 19675\n",
        "for i in range(len(time_segments)):\n",
        "  end = time_segments[i]\n",
        "  if i == 0:\n",
        "    start = minimum\n",
        "  if i == len(time_segments) - 1:\n",
        "    end = maximum\n",
        "  sum_lt = (merged[merged['ttl_prime_time'].between(start, end)]['life_time'] / pd.to_timedelta(1, unit='D')).unique().sum()\n",
        "  drivers = (merged[merged['ttl_prime_time'].between(start, end)]['life_time'] / pd.to_timedelta(1, unit='D')).nunique()\n",
        "  print(sum_lt / drivers)\n",
        "  start = time_segments[i]\n",
        "  "
      ],
      "execution_count": 0,
      "outputs": [
        {
          "output_type": "stream",
          "text": [
            "48.18071904550828\n",
            "65.34008398261068\n",
            "65.52292546296296\n",
            "66.16876809280545\n"
          ],
          "name": "stdout"
        }
      ]
    },
    {
      "cell_type": "markdown",
      "metadata": {
        "id": "_eYIZYuxdbyK",
        "colab_type": "text"
      },
      "source": [
        "For those with 0 to 4000 thousand seconds of primetime, the average life time is 48 days.\n",
        "\n",
        "After 4000 seconds, it's about 65 or 66 days. "
      ]
    },
    {
      "cell_type": "code",
      "metadata": {
        "id": "foBT4t33O7g8",
        "colab_type": "code",
        "colab": {}
      },
      "source": [
        "# Next question is does the number of ride a rider get affect\n",
        "# his or her life time value(i.e do they stay for long)\n",
        "#"
      ],
      "execution_count": 0,
      "outputs": []
    },
    {
      "cell_type": "code",
      "metadata": {
        "id": "Ov7_zsouCTWe",
        "colab_type": "code",
        "colab": {}
      },
      "source": [
        "# Lyft for working professional (look at weekday and during working hours like\n",
        "# 9 AM and 5 or 6 PM)\n",
        "#"
      ],
      "execution_count": 0,
      "outputs": []
    }
  ]
}